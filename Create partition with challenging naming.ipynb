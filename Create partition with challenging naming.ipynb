{
 "cells": [
  {
   "cell_type": "code",
   "execution_count": 29,
   "id": "2bf9b233",
   "metadata": {},
   "outputs": [],
   "source": [
    "import awswrangler as wr\n",
    "import boto3\n",
    "from pyathena import connect\n",
    "from botocore.exceptions import ClientError\n"
   ]
  },
  {
   "cell_type": "code",
   "execution_count": 6,
   "id": "078e6ba7",
   "metadata": {},
   "outputs": [],
   "source": [
    "my_s = boto3.setup_default_session(profile_name='<>_DataScientist')"
   ]
  },
  {
   "cell_type": "code",
   "execution_count": null,
   "id": "727366a1",
   "metadata": {},
   "outputs": [],
   "source": [
    "cursor = connect(s3_staging_dir=\"s3://<company>-<>-us-east-1-data/athena-results/\",\n",
    "                 region_name=\"us-east-1\",profile_name='<>_DataScientist').cursor()\n"
   ]
  },
  {
   "cell_type": "code",
   "execution_count": 16,
   "id": "14781e3b",
   "metadata": {},
   "outputs": [],
   "source": [
    "l_f = wr.s3.list_objects('s3://<company>-<>-us-east-1-g-test-data/tier2/sales/sdim_product_fam_group=J/H FUTUREPATH/')"
   ]
  },
  {
   "cell_type": "code",
   "execution_count": null,
   "id": "66f07a77",
   "metadata": {},
   "outputs": [],
   "source": [
    "for n,i in enumerate(l_f):\n",
    "    i_s = i.split('/')\n",
    "    month=i_s[-2]\n",
    "    year=i_s[-3]\n",
    "    loc = i.replace(i.split('/')[-1],'')\n",
    "    my_c=f'''\n",
    "    alter table g_demand_for.sales_view ADD PARTITION (sdim_product_fam_group='J/H FUTUREPATH',{year},{month})\n",
    "location '{loc}'\n",
    "    '''\n",
    "    \n",
    "    print(n,my_c)\n",
    "    try:\n",
    "        cursor.execute(my_c)\n",
    "    except :\n",
    "        print('already done skipping')\n",
    "        \n",
    "\n",
    "    "
   ]
  }
 ],
 "metadata": {
  "kernelspec": {
   "display_name": "Python 3",
   "language": "python",
   "name": "python3"
  },
  "language_info": {
   "codemirror_mode": {
    "name": "ipython",
    "version": 3
   },
   "file_extension": ".py",
   "mimetype": "text/x-python",
   "name": "python",
   "nbconvert_exporter": "python",
   "pygments_lexer": "ipython3",
   "version": "3.8.8"
  },
  "vp": {
   "base_numbering": 1,
   "nav_menu": {},
   "number_sections": true,
   "sideBar": true,
   "title_cell": "VisualPython",
   "title_sidebar": "VisualPython",
   "vpPosition": {
    "height": "calc(100% - 180px)",
    "right": "10px",
    "top": "110px",
    "width": "50%"
   },
   "vp_cell": false,
   "vp_section_display": true,
   "vp_window_display": false
  }
 },
 "nbformat": 4,
 "nbformat_minor": 5
}
